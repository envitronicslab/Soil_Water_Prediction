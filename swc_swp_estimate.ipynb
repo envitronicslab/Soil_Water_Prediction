{
 "cells": [
  {
   "cell_type": "code",
   "execution_count": 24,
   "metadata": {},
   "outputs": [],
   "source": [
    "import pandas as pd\n",
    "from sklearn.model_selection import train_test_split\n",
    "from sklearn.preprocessing import StandardScaler\n",
    "from sklearn.linear_model import LinearRegression\n",
    "from sklearn.tree import DecisionTreeRegressor\n",
    "from sklearn.ensemble import RandomForestRegressor, GradientBoostingRegressor\n",
    "from sklearn.svm import SVR\n",
    "from sklearn.neural_network import MLPRegressor\n",
    "from sklearn.metrics import mean_squared_error, r2_score\n",
    "import matplotlib.pyplot as plt\n",
    "from tabulate import tabulate\n",
    "import joblib\n",
    "import os"
   ]
  },
  {
   "cell_type": "code",
   "execution_count": 25,
   "metadata": {},
   "outputs": [],
   "source": [
    "# Load the data\n",
    "data = pd.read_csv(\"royal_city_daily_avg.csv\") # Daily averages\n",
    "# data = pd.read_csv(\"royal_city_late_morning_avg.csv\") # Late morning averages (9:00AM - 11:00PM)\n",
    "\n",
    "# Split data into features and target variables\n",
    "X = data[['wind_speed', 'solar_radiation', 'relative_humidity', 'air_temp', 'canopy_temp_mean', 'soil_temp']]\n",
    "y_water_content = data['water_content_mean']\n",
    "y_water_potential = data['water_potential_mean']\n",
    "\n",
    "# Normalize the data\n",
    "scaler = StandardScaler()\n",
    "X_scaled = scaler.fit_transform(X)\n",
    "\n",
    "# Split data into training and testing sets\n",
    "X_train_water_content, X_test_water_content, y_train_water_content, y_test_water_content = train_test_split(X_scaled, y_water_content, test_size=0.2, random_state=42)\n",
    "X_train_water_potential, X_test_water_potential, y_train_water_potential, y_test_water_potential = train_test_split(X_scaled, y_water_potential, test_size=0.2, random_state=42)"
   ]
  },
  {
   "cell_type": "code",
   "execution_count": 26,
   "metadata": {},
   "outputs": [],
   "source": [
    "# Define a function to train and evaluate models\n",
    "def train_and_evaluate(model, X_train, y_train, X_test, y_test):\n",
    "    model.fit(X_train, y_train)\n",
    "    y_pred = model.predict(X_test)\n",
    "    mse = mean_squared_error(y_test, y_pred)\n",
    "    r2 = r2_score(y_test, y_pred)\n",
    "    return mse, r2, y_pred    \n",
    "\n",
    "# List of models to try\n",
    "models = [LinearRegression(), DecisionTreeRegressor(), RandomForestRegressor(), GradientBoostingRegressor(), SVR(), MLPRegressor()]"
   ]
  },
  {
   "cell_type": "code",
   "execution_count": 27,
   "metadata": {},
   "outputs": [],
   "source": [
    "# Train and evaluate models for water content prediction\n",
    "results_water_content = {}\n",
    "for model in models:\n",
    "    # joblib.dump(model, f\"models/{model.__class__.__name__}_model_water_content.pkl\") # Save water content model\n",
    "    mse, r2, y_pred = train_and_evaluate(model, X_train_water_content, y_train_water_content, X_test_water_content, y_test_water_content)\n",
    "    results_water_content[str(model)] = {'MSE': mse, 'R2': r2, 'predicted_values': y_pred}"
   ]
  },
  {
   "cell_type": "code",
   "execution_count": null,
   "metadata": {},
   "outputs": [],
   "source": [
    "# Train and evaluate models for water potential prediction\n",
    "results_water_potential = {}\n",
    "for model in models:\n",
    "    # joblib.dump(model, f\"models/{model.__class__.__name__}_model_water_potential.pkl\") # Save water potential model\n",
    "    mse, r2, y_pred = train_and_evaluate(model, X_train_water_potential, y_train_water_potential, X_test_water_potential, y_test_water_potential)\n",
    "    results_water_potential[str(model)] = {'MSE': mse, 'R2': r2, 'predicted_values': y_pred}"
   ]
  },
  {
   "cell_type": "code",
   "execution_count": null,
   "metadata": {},
   "outputs": [],
   "source": [
    "# Print results\n",
    "print(\"Water Content Prediction Results:\")\n",
    "for model, results in results_water_content.items():\n",
    "    print(f\"{model}: MSE={results['MSE']:.4f}, R2={results['R2']:.4f}\")\n",
    "\n",
    "print(\"\\nWater Potential Prediction Results:\")\n",
    "for model, results in results_water_potential.items():\n",
    "    print(f\"{model}: MSE={results['MSE']:.4f}, R2={results['R2']:.4f}\")"
   ]
  },
  {
   "cell_type": "code",
   "execution_count": null,
   "metadata": {},
   "outputs": [],
   "source": [
    "# Create lists of model names, MSE, and R2 values\n",
    "model_names = []\n",
    "mse_values = []\n",
    "r2_values = []\n",
    "\n",
    "for model, results in results_water_content.items():\n",
    "    model_names.append(model)\n",
    "    mse_values.append(results['MSE'])\n",
    "    r2_values.append(results['R2'])\n",
    "\n",
    "# Create a list of dictionaries with results\n",
    "results_table_water_content = [{'Model': model_name, 'MSE': mse_value, 'R2': r2_value} for model_name, mse_value, r2_value in zip(model_names, mse_values, r2_values)]\n",
    "\n",
    "# Print the table\n",
    "print(\"Water Content Prediction Results:\")\n",
    "print(tabulate(results_table_water_content, headers='keys', tablefmt='grid'))"
   ]
  },
  {
   "cell_type": "code",
   "execution_count": null,
   "metadata": {},
   "outputs": [],
   "source": [
    "# Create lists of model names, MSE, and R2 values for water potential\n",
    "model_names_water_potential = []\n",
    "mse_values_water_potential = []\n",
    "r2_values_water_potential = []\n",
    "\n",
    "for model, results in results_water_potential.items():\n",
    "    model_names_water_potential.append(model)\n",
    "    mse_values_water_potential.append(results['MSE'])\n",
    "    r2_values_water_potential.append(results['R2'])\n",
    "\n",
    "# Create a list of dictionaries with results for water potential\n",
    "results_table_water_potential = [{'Model': model_name, 'MSE': mse_value, 'R2': r2_value} for model_name, mse_value, r2_value in zip(model_names_water_potential, mse_values_water_potential, r2_values_water_potential)]\n",
    "\n",
    "# Print the table for water potential prediction\n",
    "print(\"\\nWater Potential Prediction Results:\")\n",
    "print(tabulate(results_table_water_potential, headers='keys', tablefmt='grid'))"
   ]
  },
  {
   "cell_type": "code",
   "execution_count": null,
   "metadata": {},
   "outputs": [],
   "source": [
    "# Visualize results for water content prediction (scatter plots of predicted vs. actual values)\n",
    "fig, axs = plt.subplots(nrows=3, ncols=2, figsize=(12, 15))\n",
    "\n",
    "for i, (model, results) in enumerate(results_water_content.items()):\n",
    "    model_predictions = results['predicted_values']\n",
    "    axs[i // 2, i % 2].scatter(y_test_water_content, model_predictions, label=model)  # Use correct subplot indexing\n",
    "    axs[i // 2, i % 2].set_xlabel(\"Actual Water Content\")\n",
    "    axs[i // 2, i % 2].set_ylabel(\"Predicted Water Content\")\n",
    "    axs[i // 2, i % 2].set_title(f\"Predicted vs. Actual Water Content - {model}\")\n",
    "    axs[i // 2, i % 2].legend()\n",
    "    # Add text annotations with R² and MSE values\n",
    "    axs[i // 2, i % 2].text(0.45, 0.85, f\"R²: {results['R2']:.4f}\", ha='left', va='top', transform=axs[i // 2, i % 2].transAxes, fontsize=10)\n",
    "    axs[i // 2, i % 2].text(0.45, 0.80, f\"MSE: {results['MSE']:.4f}\", ha='left', va='top', transform=axs[i // 2, i % 2].transAxes, fontsize=10)\n",
    "\n",
    "# Add diagonal line\n",
    "for ax in axs.flat:  # Iterate through flattened subplots\n",
    "    xlims = ax.get_xlim()\n",
    "    ylims = ax.get_ylim()\n",
    "    xmin, xmax = min(xlims), max(xlims)\n",
    "    ymin, ymax = min(ylims), max(ylims)\n",
    "    ax.set_xlim(xmin, xmax)\n",
    "    ax.set_ylim(ymin, ymax)\n",
    "    ax.plot(xlims, ylims, 'k--', alpha=0.75, zorder=0)\n",
    "\n",
    "plt.tight_layout()\n",
    "plt.show()"
   ]
  },
  {
   "cell_type": "code",
   "execution_count": null,
   "metadata": {},
   "outputs": [],
   "source": [
    "# Visualize results for water potential prediction\n",
    "fig, axs = plt.subplots(nrows=3, ncols=2, figsize=(12, 15))\n",
    "\n",
    "for i, (model, results) in enumerate(results_water_content.items()):\n",
    "    model_predictions = results['predicted_values']\n",
    "    axs[i // 2, i % 2].scatter(y_test_water_potential, model_predictions, label=model)  # Use correct subplot indexing\n",
    "    axs[i // 2, i % 2].set_xlabel(\"Actual Water Potential\")\n",
    "    axs[i // 2, i % 2].set_ylabel(\"Predicted Water Potential\")\n",
    "    axs[i // 2, i % 2].set_title(f\"Predicted vs. Actual Water Potential - {model}\")\n",
    "    axs[i // 2, i % 2].legend()\n",
    "    # Add text annotations with R² and MSE values\n",
    "    axs[i // 2, i % 2].text(0.45, 0.85, f\"R²: {results['R2']:.4f}\", ha='left', va='top', transform=axs[i // 2, i % 2].transAxes, fontsize=10)\n",
    "    axs[i // 2, i % 2].text(0.45, 0.80, f\"MSE: {results['MSE']:.4f}\", ha='left', va='top', transform=axs[i // 2, i % 2].transAxes, fontsize=10)\n",
    "\n",
    "# Add diagonal line\n",
    "for ax in axs.flat:  # Iterate through flattened subplots\n",
    "    xlims = ax.get_xlim()\n",
    "    ylims = ax.get_ylim()\n",
    "    xmin, xmax = min(xlims), max(xlims)\n",
    "    ymin, ymax = min(ylims), max(ylims)\n",
    "    ax.set_xlim(xmin, xmax)\n",
    "    ax.set_ylim(ymin, ymax)\n",
    "    ax.plot(xlims, ylims, 'k--', alpha=0.75, zorder=0)\n",
    "\n",
    "plt.tight_layout()\n",
    "plt.show()"
   ]
  },
  {
   "cell_type": "code",
   "execution_count": 34,
   "metadata": {},
   "outputs": [],
   "source": [
    "# # Create the models folder if it doesn't exist\n",
    "# model_folder = \"models\"\n",
    "# if not os.path.exists(model_folder):\n",
    "#     os.makedirs(model_folder)\n",
    "\n",
    "# # Load saved water content models dynamically\n",
    "# for model_name in [os.path.join(model_folder, f\"{model.__class__.__name__}_model_water_content.pkl\") for model in models]:\n",
    "#     model = joblib.load(model_name)\n",
    "#     mse, r2, y_pred = train_and_evaluate(model, X_train_water_content, y_train_water_content, X_test_water_content, y_test_water_content)\n",
    "#     results_water_content[str(model)] = {'MSE': mse, 'R2': r2}\n",
    "\n",
    "# # Load saved water potential models dynamically\n",
    "# for model_name in [os.path.join(model_folder, f\"{model.__class__.__name__}_model_water_potential.pkl\") for model in models]:\n",
    "#     model = joblib.load(model_name)\n",
    "#     mse, r2, y_pred = train_and_evaluate(model, X_train_water_potential, y_train_water_potential, X_test_water_potential, y_test_water_potential)\n",
    "#     results_water_content[str(model)] = {'MSE': mse, 'R2': r2}"
   ]
  }
 ],
 "metadata": {
  "kernelspec": {
   "display_name": "myenv",
   "language": "python",
   "name": "python3"
  },
  "language_info": {
   "codemirror_mode": {
    "name": "ipython",
    "version": 3
   },
   "file_extension": ".py",
   "mimetype": "text/x-python",
   "name": "python",
   "nbconvert_exporter": "python",
   "pygments_lexer": "ipython3",
   "version": "3.10.13"
  }
 },
 "nbformat": 4,
 "nbformat_minor": 2
}
