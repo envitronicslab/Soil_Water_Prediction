{
 "cells": [
  {
   "cell_type": "code",
   "execution_count": 1,
   "metadata": {},
   "outputs": [],
   "source": [
    "# Author: Y. Osroosh, Ph.D. <yosroosh@gmail.com>"
   ]
  },
  {
   "cell_type": "code",
   "execution_count": 2,
   "metadata": {},
   "outputs": [],
   "source": [
    "import os\n",
    "# Local libraries \n",
    "from data_analysis_utils.data_preprocessing import DataProcessor \n",
    "from data_analysis_utils.model_processing import ModelProcessor"
   ]
  },
  {
   "cell_type": "code",
   "execution_count": null,
   "metadata": {},
   "outputs": [],
   "source": [
    "'''\n",
    "Data Processing\n",
    "'''\n",
    "\n",
    "# data_processor = DataProcessor(os.path.join(\"microclimate_data\", \"royal_city_daily_avg.csv\")) # Daily averages\n",
    "# data_processor = DataProcessor(os.path.join(\"microclimate_data\", \"royal_city_late_morning_avg.csv\")) # Late morning averages (9:00AM - 11:00PM)\n",
    "data_processor = DataProcessor(os.path.join(\"microclimate_data\", \"royal_city_all.csv\"))    # 15-min data\n",
    "\n",
    "# print(data_processor.get_data())\n",
    "# data_processor.perform_eda()\n",
    "# data_processor.pair_plots()\n",
    "\n",
    "# Feature engineering (if necessary): Create new features or transform existing ones\n",
    "# Data cleaning and preprocessing: Handle missing values, outliers, and inconsistencies\n",
    "\n",
    "# Define the feature and target columns\n",
    "feature_columns = ['time', 'wind_speed', 'solar_radiation', 'relative_humidity', 'air_temp', 'canopy_temp_mean']\n",
    "target_column_water_content = ['water_content_mean']\n",
    "target_column_water_potential = ['water_potential_mean']\n",
    "\n",
    "# Split and normalize the data\n",
    "X_train_water_content, X_test_water_content, y_train_water_content, y_test_water_content = data_processor.split_and_normalize_data(feature_columns, \n",
    "                                                                                                                                   target_column_water_content)\n",
    "\n",
    "X_train_water_potential, X_test_water_potential, y_train_water_potential, y_test_water_potential = data_processor.split_and_normalize_data(feature_columns, \n",
    "                                                                                                                                           target_column_water_potential)"
   ]
  },
  {
   "cell_type": "code",
   "execution_count": null,
   "metadata": {},
   "outputs": [],
   "source": [
    "'''\n",
    "Train and evaluate machine learning models for water content and potential predictions\n",
    "'''\n",
    "\n",
    "model_processor = ModelProcessor()\n",
    "trained_models_water_content, results_water_content = model_processor.train_and_evaluate_models('water_content', \n",
    "                                                                                                X_train_water_content, \n",
    "                                                                                                y_train_water_content, \n",
    "                                                                                                X_test_water_content, \n",
    "                                                                                                y_test_water_content)\n",
    "\n",
    "trained_models_water_potential, results_water_potential = model_processor.train_and_evaluate_models('water_potential', \n",
    "                                                                                                    X_train_water_potential, \n",
    "                                                                                                    y_train_water_potential, \n",
    "                                                                                                    X_test_water_potential, \n",
    "                                                                                                    y_test_water_potential) "
   ]
  },
  {
   "cell_type": "code",
   "execution_count": null,
   "metadata": {},
   "outputs": [],
   "source": [
    "# Print results\n",
    "# model_processor.print_evaluation_results(results_water_content, \"Water Content\")\n",
    "# model_processor.print_evaluation_results(results_water_potential, \"Water Potential\") \n",
    "\n",
    "# Print the table for predictions\n",
    "model_processor.create_results_table(results_water_content, \"Water Content\")\n",
    "model_processor.create_results_table(results_water_potential, \"Water Potential\")"
   ]
  },
  {
   "cell_type": "code",
   "execution_count": null,
   "metadata": {},
   "outputs": [],
   "source": [
    "# Visualize results for water content prediction (scatter plots of predicted vs. actual values)\n",
    "model_processor.visualize_results(y_test_water_content, results_water_content, \"Water Content Prediction\")\n",
    "model_processor.visualize_results(y_test_water_potential, results_water_potential, \"Water Potential Prediction\")"
   ]
  },
  {
   "cell_type": "code",
   "execution_count": null,
   "metadata": {},
   "outputs": [],
   "source": [
    "\"\"\"\n",
    "Save, load, and evaluate trained models\n",
    "\"\"\"\n",
    "\n",
    "# Save trained models\n",
    "trained_models = {\"water_content\": trained_models_water_content, \"water_potential\": trained_models_water_potential}\n",
    "model_processor.save_models(trained_models)\n",
    "\n",
    "# Load the models\n",
    "loaded_models = model_processor.load_models(trained_models)\n",
    "\n",
    "# Evaluate the loaded models\n",
    "evaluation_results_water_content = model_processor.evaluate_models(loaded_models['water_content'], \n",
    "                                                                   X_test_water_content, \n",
    "                                                                   y_test_water_content)\n",
    "\n",
    "evaluation_results_water_potential = model_processor.evaluate_models(loaded_models['water_potential'], \n",
    "                                                                     X_test_water_potential, \n",
    "                                                                     y_test_water_potential)\n",
    "\n",
    "# Print evaluation results\n",
    "model_processor.print_evaluation_results(evaluation_results_water_content, \"Water Content\")\n",
    "model_processor.print_evaluation_results(evaluation_results_water_potential, \"Water Potential\")"
   ]
  }
 ],
 "metadata": {
  "kernelspec": {
   "display_name": "myenv",
   "language": "python",
   "name": "python3"
  },
  "language_info": {
   "codemirror_mode": {
    "name": "ipython",
    "version": 3
   },
   "file_extension": ".py",
   "mimetype": "text/x-python",
   "name": "python",
   "nbconvert_exporter": "python",
   "pygments_lexer": "ipython3",
   "version": "3.10.13"
  }
 },
 "nbformat": 4,
 "nbformat_minor": 2
}
