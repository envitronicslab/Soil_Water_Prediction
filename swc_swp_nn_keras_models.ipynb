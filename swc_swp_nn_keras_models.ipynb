{
 "cells": [
  {
   "cell_type": "code",
   "execution_count": 7,
   "metadata": {},
   "outputs": [],
   "source": [
    "import os\n",
    "# Local libraries \n",
    "from data_analysis_utils.data_preprocessing import DataProcessor\n",
    "from data_analysis_utils.nn_model_processing import NNModelProcessor"
   ]
  },
  {
   "cell_type": "code",
   "execution_count": null,
   "metadata": {},
   "outputs": [],
   "source": [
    "'''\n",
    "Data Processing\n",
    "'''\n",
    "\n",
    "# data_processor = DataProcessor(os.path.join(\"microclimate_data\", \"royal_city_daily_avg.csv\")) # Daily averages\n",
    "# data_processor = DataProcessor(os.path.join(\"microclimate_data\", \"royal_city_late_morning_avg.csv\")) # Late morning averages (9:00AM - 11:00PM)\n",
    "data_processor = DataProcessor(os.path.join(\"microclimate_data\", \"royal_city_all.csv\"))    # 15-min data\n",
    "\n",
    "# print(data_processor.get_data())\n",
    "# data_processor.perform_eda()\n",
    "# data_processor.pair_plots()\n",
    "\n",
    "# Feature engineering (if necessary): Create new features or transform existing ones\n",
    "# Data cleaning and preprocessing: Handle missing values, outliers, and inconsistencies\n",
    "\n",
    "# Define the feature and target columns\n",
    "feature_columns = ['time', 'wind_speed', 'solar_radiation', 'relative_humidity', 'air_temp', 'canopy_temp_mean']\n",
    "target_columns = ['water_content_mean', 'water_potential_mean']\n",
    "\n",
    "# Split and normalize the data\n",
    "X_train_water_content, X_test_water_content, y_train_water_content, y_test_water_content = data_processor.split_and_normalize_data(feature_columns, \n",
    "                                                                                                                                   target_columns[0])\n",
    "\n",
    "X_train_water_potential, X_test_water_potential, y_train_water_potential, y_test_water_potential = data_processor.split_and_normalize_data(feature_columns, \n",
    "                                                                                                                                           target_columns[1])"
   ]
  },
  {
   "cell_type": "code",
   "execution_count": null,
   "metadata": {},
   "outputs": [],
   "source": [
    "'''\n",
    "Defines and train neural network models for predicting water content and potential.\n",
    "'''\n",
    "\n",
    "model_processor = NNModelProcessor()\n",
    "\n",
    "# Model for water content\n",
    "model_nn_water_content = model_processor.define_tensorflow_keras_model_water_content(X_train_water_content.shape[1], 50, 0.0001)\n",
    "results_water_content = model_processor.train_and_evaluate_tensorflow_keras_model(model_nn_water_content, \n",
    "                                                                                  X_train_water_content, \n",
    "                                                                                  y_train_water_content, \n",
    "                                                                                  X_test_water_content, \n",
    "                                                                                  y_test_water_content)\n",
    "\n",
    "# Model for water potential\n",
    "model_nn_water_potential = model_processor.define_tensorflow_keras_model_water_potential(X_train_water_potential.shape[1], 50, 0.001)\n",
    "results_water_potential = model_processor.train_and_evaluate_tensorflow_keras_model(model_nn_water_potential, \n",
    "                                                                                    X_train_water_potential, \n",
    "                                                                                    y_train_water_potential, \n",
    "                                                                                    X_test_water_potential, \n",
    "                                                                                    y_test_water_potential)"
   ]
  },
  {
   "cell_type": "code",
   "execution_count": null,
   "metadata": {},
   "outputs": [],
   "source": [
    "# Print results\n",
    "model_processor.print_evaluation_results(results_water_content, \"Water Content\")\n",
    "model_processor.print_evaluation_results(results_water_potential, \"Water Potential\")"
   ]
  },
  {
   "cell_type": "code",
   "execution_count": null,
   "metadata": {},
   "outputs": [],
   "source": [
    "# Visualize results for water content prediction (scatter plots of predicted vs. actual values)\n",
    "model_processor.visualize_results(y_test_water_content, results_water_content, \"Water Content Prediction\")\n",
    "model_processor.visualize_results(y_test_water_potential, results_water_potential, \"Water Potential Prediction\")"
   ]
  },
  {
   "cell_type": "code",
   "execution_count": null,
   "metadata": {},
   "outputs": [],
   "source": [
    "\"\"\"\n",
    "Save, load, and evaluate trained models\n",
    "\"\"\"\n",
    "\n",
    "# Save trained models \n",
    "trained_models = {\"water_content\": model_nn_water_content, \"water_potential\": model_nn_water_potential}\n",
    "model_processor.save_tensorflow_keras_models(models=trained_models)\n",
    "\n",
    "# Load the models\n",
    "loaded_models = model_processor.load_tensorflow_keras_models(models=trained_models)\n",
    "\n",
    "# Evaluate models\n",
    "evaluation_results_water_content = model_processor.evaluate_tensorflow_keras_model(loaded_models[\"water_content\"], \n",
    "                                                                                   X_test_water_content, \n",
    "                                                                                   y_test_water_content)\n",
    "\n",
    "evaluation_results_water_potential = model_processor.evaluate_tensorflow_keras_model(loaded_models[\"water_potential\"], \n",
    "                                                                                     X_test_water_potential, \n",
    "                                                                                     y_test_water_potential)\n",
    "\n",
    "# Print evaluation results\n",
    "model_processor.print_evaluation_results(evaluation_results_water_content, \"Water Content\")\n",
    "model_processor.print_evaluation_results(evaluation_results_water_potential, \"Water Potential\")"
   ]
  }
 ],
 "metadata": {
  "kernelspec": {
   "display_name": "myenv",
   "language": "python",
   "name": "python3"
  },
  "language_info": {
   "codemirror_mode": {
    "name": "ipython",
    "version": 3
   },
   "file_extension": ".py",
   "mimetype": "text/x-python",
   "name": "python",
   "nbconvert_exporter": "python",
   "pygments_lexer": "ipython3",
   "version": "3.10.13"
  }
 },
 "nbformat": 4,
 "nbformat_minor": 2
}
