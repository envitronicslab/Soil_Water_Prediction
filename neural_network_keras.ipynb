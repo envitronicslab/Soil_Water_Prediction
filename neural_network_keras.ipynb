{
 "cells": [
  {
   "cell_type": "code",
   "execution_count": null,
   "metadata": {},
   "outputs": [],
   "source": [
    "import tensorflow as tf\n",
    "print(tf.__version__)"
   ]
  },
  {
   "cell_type": "code",
   "execution_count": 30,
   "metadata": {},
   "outputs": [],
   "source": [
    "import pandas as pd\n",
    "from sklearn.model_selection import train_test_split\n",
    "from sklearn.preprocessing import StandardScaler\n",
    "from sklearn import metrics\n",
    "from tensorflow.keras.models import Sequential\n",
    "from tensorflow.keras.layers import Dense\n",
    "import matplotlib.pyplot as plt\n",
    "import joblib # To load or export models\n",
    "import os"
   ]
  },
  {
   "cell_type": "code",
   "execution_count": 31,
   "metadata": {},
   "outputs": [],
   "source": [
    "# Load the data\n",
    "data = pd.read_csv(\"royal_city_daily_avg.csv\")  # Daily averages\n",
    "# data = pd.read_csv(\"royal_city_late_morning_avg\")  # Late morning averages (9:00AM - 11:00PM)\n",
    "\n",
    "# Split data into features and target variables\n",
    "X = data[['wind_speed', 'solar_radiation', 'relative_humidity', 'air_temp', 'canopy_temp_mean', 'soil_temp']]\n",
    "y_water_content = data['water_content_mean']\n",
    "y_water_potential = data['water_potential_mean']\n",
    "\n",
    "# Normalize the data\n",
    "scaler = StandardScaler()\n",
    "X_scaled = scaler.fit_transform(X)\n",
    "\n",
    "# Split data into training and testing sets\n",
    "X_train_water_content, X_test_water_content, y_train_water_content, y_test_water_content = train_test_split(X_scaled, y_water_content, test_size=0.2, random_state=42)\n",
    "X_train_water_potential, X_test_water_potential, y_train_water_potential, y_test_water_potential = train_test_split(X_scaled, y_water_potential, test_size=0.2, random_state=42)"
   ]
  },
  {
   "cell_type": "code",
   "execution_count": null,
   "metadata": {},
   "outputs": [],
   "source": [
    "# Create a neural network model for water content prediction\n",
    "model_nn_water_content = Sequential([\n",
    "    Dense(64, activation='relu', input_dim=X.shape[1]),\n",
    "    Dense(32, activation='relu'),\n",
    "    Dense(1, activation='linear')\n",
    "])\n",
    "\n",
    "model_nn_water_content.summary()"
   ]
  },
  {
   "cell_type": "code",
   "execution_count": null,
   "metadata": {},
   "outputs": [],
   "source": [
    "model_nn_water_content.compile(optimizer='adam', loss='mean_squared_error')\n",
    "model_nn_water_content.fit(X_train_water_content, y_train_water_content, epochs=100, batch_size=32, validation_split=0.2)"
   ]
  },
  {
   "cell_type": "code",
   "execution_count": null,
   "metadata": {},
   "outputs": [],
   "source": [
    "# Evaluate the model\n",
    "results_water_content = {}\n",
    "\n",
    "# (gives error)\n",
    "# mse_nn_water_content, r2_nn_water_content = model_nn_water_content.evaluate(X_test_water_content, y_test_water_content)\n",
    "# results_water_content['Neural Network'] = {'MSE': mse_nn_water_content, 'R2': r2_nn_water_content}\n",
    "\n",
    "# Calculate Metrics\n",
    "y_pred_water_content = model_nn_water_content.predict(X_test_water_content)\n",
    "r2_nn_water_content = metrics.r2_score(y_test_water_content, y_pred_water_content)\n",
    "mse_nn_water_content = metrics.mean_squared_error(y_test_water_content, y_pred_water_content)\n",
    "\n",
    "# Update results dictionary\n",
    "results_water_content['Neural Network'] = {'MSE': mse_nn_water_content, 'R2': r2_nn_water_content, 'predicted_values': y_pred_water_content}"
   ]
  },
  {
   "cell_type": "code",
   "execution_count": null,
   "metadata": {},
   "outputs": [],
   "source": [
    "# Create a neural network model for water potential prediction\n",
    "model_nn_water_potential = Sequential([\n",
    "    Dense(64, activation='relu', input_dim=X.shape[1]),\n",
    "    Dense(32, activation='relu'),\n",
    "    Dense(1, activation='linear')\n",
    "])\n",
    "\n",
    "model_nn_water_potential.summary()"
   ]
  },
  {
   "cell_type": "code",
   "execution_count": null,
   "metadata": {},
   "outputs": [],
   "source": [
    "\n",
    "model_nn_water_potential.compile(optimizer='adam', loss='mean_squared_error')\n",
    "model_nn_water_potential.fit(X_train_water_potential, y_train_water_potential, epochs=100, batch_size=32, validation_split=0.2)"
   ]
  },
  {
   "cell_type": "code",
   "execution_count": null,
   "metadata": {},
   "outputs": [],
   "source": [
    "# Evaluate the model\n",
    "results_water_potential = {}\n",
    "\n",
    "# Calculate Metrics\n",
    "y_pred_water_potential = model_nn_water_potential.predict(X_test_water_potential)\n",
    "r2_nn_water_potential = metrics.r2_score(y_test_water_potential, y_pred_water_potential)\n",
    "mse_nn_water_potential = metrics.mean_squared_error(y_test_water_potential, y_pred_water_potential)\n",
    "\n",
    "# Update results dictionary\n",
    "results_water_potential['Neural Network'] = {'MSE': mse_nn_water_potential, 'R2': r2_nn_water_potential, 'predicted_values': y_pred_water_potential}"
   ]
  },
  {
   "cell_type": "code",
   "execution_count": null,
   "metadata": {},
   "outputs": [],
   "source": [
    "# Print results\n",
    "print(\"Water Content Prediction Results:\")\n",
    "for model, results in results_water_content.items():\n",
    "    print(f\"{model}: MSE={results['MSE']:.4f}, R2={results['R2']:.4f}\")\n",
    "\n",
    "print(\"\\nWater Potential Prediction Results:\")\n",
    "for model, results in results_water_potential.items():\n",
    "    print(f\"{model}: MSE={results['MSE']:.4f}, R2={results['R2']:.4f}\")"
   ]
  },
  {
   "cell_type": "code",
   "execution_count": null,
   "metadata": {},
   "outputs": [],
   "source": [
    "# Visualize results for water content and water potential predictions (scatter plots of predicted vs. actual values)\n",
    "fig, (ax1, ax2) = plt.subplots(1, 2, figsize=(12, 6))  # Adjust figure size for square plots\n",
    "\n",
    "# Water Content Prediction\n",
    "ax1.scatter(y_test_water_content, y_pred_water_content, label=model)\n",
    "ax1.set_xlabel(\"Actual Water Content\")\n",
    "ax1.set_ylabel(\"Predicted Water Content\")\n",
    "ax1.set_title(\"Predicted vs. Actual Water Content\")\n",
    "ax1.legend()\n",
    "\n",
    "# Water Potential Prediction\n",
    "ax2.scatter(y_test_water_potential, y_pred_water_potential, label=model)\n",
    "ax2.set_xlabel(\"Actual Water Potential\")\n",
    "ax2.set_ylabel(\"Predicted Water Potential\")\n",
    "ax2.set_title(\"Predicted vs. Actual Water Potential\")\n",
    "ax2.legend()\n",
    "\n",
    "plt.tight_layout()\n",
    "plt.show()"
   ]
  },
  {
   "cell_type": "code",
   "execution_count": 40,
   "metadata": {},
   "outputs": [],
   "source": [
    "# # Create the models folder if it doesn't exist\n",
    "# model_folder = \"models\"\n",
    "# if not os.path.exists(model_folder):\n",
    "#     os.makedirs(model_folder)\n",
    "\n",
    "# # Save the models (HDF5 format)\n",
    "# model_nn_water_content.save(os.path.join(model_folder, \"model_nn_water_content.h5\"))\n",
    "# model_nn_water_potential.save(os.path.join(model_folder, \"model_nn_water_potential.h5\")) "
   ]
  },
  {
   "cell_type": "code",
   "execution_count": 41,
   "metadata": {},
   "outputs": [],
   "source": [
    "# # Load the created neural network model\n",
    "# model_nn_water_content = tf.keras.models.load_model(os.path.join(model_folder, \"model_nn_water_content.h5\"))\n",
    "# model_nn_water_potential = tf.keras.models.load_model(os.path.join(model_folder, \"model_nn_water_potential.h5\"))"
   ]
  }
 ],
 "metadata": {
  "kernelspec": {
   "display_name": "myenv",
   "language": "python",
   "name": "python3"
  },
  "language_info": {
   "codemirror_mode": {
    "name": "ipython",
    "version": 3
   },
   "file_extension": ".py",
   "mimetype": "text/x-python",
   "name": "python",
   "nbconvert_exporter": "python",
   "pygments_lexer": "ipython3",
   "version": "3.10.13"
  }
 },
 "nbformat": 4,
 "nbformat_minor": 2
}
