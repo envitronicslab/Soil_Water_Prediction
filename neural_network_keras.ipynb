{
 "cells": [
  {
   "cell_type": "code",
   "execution_count": null,
   "metadata": {},
   "outputs": [],
   "source": [
    "import tensorflow as tf\n",
    "print(tf.__version__)"
   ]
  },
  {
   "cell_type": "code",
   "execution_count": 2,
   "metadata": {},
   "outputs": [],
   "source": [
    "import pandas as pd\n",
    "from sklearn.model_selection import train_test_split\n",
    "from sklearn.preprocessing import StandardScaler\n",
    "from sklearn import metrics\n",
    "from tensorflow.keras.models import Sequential\n",
    "from tensorflow.keras.layers import Dense, BatchNormalization\n",
    "from tensorflow.keras import optimizers\n",
    "from keras.regularizers import l1, l2\n",
    "import matplotlib.pyplot as plt\n",
    "import joblib # To load or export models\n",
    "import os"
   ]
  },
  {
   "cell_type": "code",
   "execution_count": 3,
   "metadata": {},
   "outputs": [],
   "source": [
    "import warnings\n",
    "warnings.filterwarnings('ignore')  # early-stop warnings"
   ]
  },
  {
   "cell_type": "code",
   "execution_count": 4,
   "metadata": {},
   "outputs": [],
   "source": [
    "# Load the data for water content prediction\n",
    "data = pd.read_csv(\"royal_city_daily_avg.csv\") # Daily averages\n",
    "\n",
    "# Split data into features and target variables\n",
    "X = data[['wind_speed', 'solar_radiation', 'relative_humidity', 'air_temp', 'canopy_temp_mean', 'soil_temp']]\n",
    "y_water_content = data['water_content_mean']\n",
    "\n",
    "# Normalize the data\n",
    "scaler = StandardScaler()\n",
    "X_scaled = scaler.fit_transform(X)\n",
    "\n",
    "# Split data into training and testing sets\n",
    "X_train_water_content, X_test_water_content, y_train_water_content, y_test_water_content = train_test_split(X_scaled, \n",
    "                                                                                                            y_water_content, \n",
    "                                                                                                            test_size=0.2, \n",
    "                                                                                                            random_state=42\n",
    "                                                                                                            )"
   ]
  },
  {
   "cell_type": "code",
   "execution_count": 5,
   "metadata": {},
   "outputs": [],
   "source": [
    "# Load the data for water potential prediction\n",
    "data = pd.read_csv(\"royal_city_late_morning_avg.csv\") # Late morning averages (9:00AM - 11:00PM)\n",
    "\n",
    "# Split data into features and target variables\n",
    "X = data[['wind_speed', 'solar_radiation', 'relative_humidity', 'air_temp', 'canopy_temp_mean', 'soil_temp']]\n",
    "y_water_potential = data['water_potential_mean']\n",
    "\n",
    "# Normalize the data\n",
    "scaler = StandardScaler()\n",
    "X_scaled = scaler.fit_transform(X)\n",
    "\n",
    "# Split data into training and testing sets\n",
    "X_train_water_potential, X_test_water_potential, y_train_water_potential, y_test_water_potential = train_test_split(X_scaled, \n",
    "                                                                                                                    y_water_potential, \n",
    "                                                                                                                    test_size=0.2, \n",
    "                                                                                                                    random_state=42\n",
    "                                                                                                                    )"
   ]
  },
  {
   "cell_type": "code",
   "execution_count": null,
   "metadata": {},
   "outputs": [],
   "source": [
    "# Create a neural network model for water content prediction\n",
    "model_nn_water_content = Sequential([\n",
    "    Dense(100, activation='relu', input_dim=X_train_water_content.shape[1], kernel_regularizer=l2(0.01)), # Add regularization techniques like L1 or L2 regularization to prevent overfitting.\n",
    "    # BatchNormalization(),\n",
    "    Dense(100, activation='relu', kernel_regularizer=l2(0.01)),\n",
    "    # BatchNormalization(),\n",
    "    Dense(1, activation='linear')\n",
    "])\n",
    "\n",
    "# Optimizers: Adam, SGD, RMSprop, RMSprop, Adadelta\n",
    "# Experiment with different learning rates (e.g., 0.01, 0.001, 0.0001) to find the optimal value.\n",
    "model_nn_water_content.compile(loss=\"mse\", optimizer=optimizers.Adam(learning_rate=0.0001))\n",
    "\n",
    "model_nn_water_content.summary()"
   ]
  },
  {
   "cell_type": "code",
   "execution_count": null,
   "metadata": {},
   "outputs": [],
   "source": [
    "model_nn_water_content.compile(optimizer='adam', loss='mean_squared_error')\n",
    "model_nn_water_content.fit(X_train_water_content, y_train_water_content, epochs=100, batch_size=32, validation_split=0.2)"
   ]
  },
  {
   "cell_type": "code",
   "execution_count": null,
   "metadata": {},
   "outputs": [],
   "source": [
    "# Evaluate the model\n",
    "# Calculate Metrics\n",
    "y_pred_water_content = model_nn_water_content.predict(X_test_water_content)\n",
    "r2_nn_water_content = metrics.r2_score(y_test_water_content, y_pred_water_content)\n",
    "mse_nn_water_content = metrics.mean_squared_error(y_test_water_content, y_pred_water_content)\n",
    "\n",
    "# Update results dictionary\n",
    "results_water_content = {}\n",
    "results_water_content = {'MSE': mse_nn_water_content, 'R2': r2_nn_water_content, 'predicted_values': y_pred_water_content}"
   ]
  },
  {
   "cell_type": "code",
   "execution_count": null,
   "metadata": {},
   "outputs": [],
   "source": [
    "# Create a neural network model for water potential prediction\n",
    "model_nn_water_potential = Sequential([\n",
    "    Dense(100, activation='tanh', input_dim=X_train_water_potential.shape[1], kernel_regularizer=l2(0.01)),  # Adjust hidden layer size\n",
    "    # BatchNormalization(),\n",
    "    Dense(50, activation='tanh', kernel_regularizer=l2(0.01)),\n",
    "    # BatchNormalization(),\n",
    "    Dense(1, activation='linear')\n",
    "])\n",
    "\n",
    "model_nn_water_potential.compile(loss=\"mse\", optimizer=optimizers.SGD(learning_rate=0.001))  # Adjust optimizer and learning rate\n",
    "\n",
    "model_nn_water_potential.summary()"
   ]
  },
  {
   "cell_type": "code",
   "execution_count": null,
   "metadata": {},
   "outputs": [],
   "source": [
    "\n",
    "model_nn_water_potential.compile(optimizer='adam', loss='mean_squared_error')\n",
    "model_nn_water_potential.fit(X_train_water_potential, y_train_water_potential, epochs=100, batch_size=32, validation_split=0.2)"
   ]
  },
  {
   "cell_type": "code",
   "execution_count": null,
   "metadata": {},
   "outputs": [],
   "source": [
    "# Evaluate the model\n",
    "# Calculate Metrics\n",
    "y_pred_water_potential = model_nn_water_potential.predict(X_test_water_potential)\n",
    "r2_nn_water_potential = metrics.r2_score(y_test_water_potential, y_pred_water_potential)\n",
    "mse_nn_water_potential = metrics.mean_squared_error(y_test_water_potential, y_pred_water_potential)\n",
    "\n",
    "# Update results dictionary\n",
    "results_water_potential = {}\n",
    "results_water_potential = {'MSE': mse_nn_water_potential, 'R2': r2_nn_water_potential, 'predicted_values': y_pred_water_potential}"
   ]
  },
  {
   "cell_type": "code",
   "execution_count": null,
   "metadata": {},
   "outputs": [],
   "source": [
    "# Print results\n",
    "print(\"Water Content Prediction Results:\")\n",
    "print(f\"MSE={results_water_content['MSE']:.4f}, R2={results_water_content['R2']:.4f}\")\n",
    "\n",
    "print(\"\\nWater Potential Prediction Results:\")\n",
    "print(f\"MSE={results_water_potential['MSE']:.4f}, R2={results_water_potential['R2']:.4f}\")"
   ]
  },
  {
   "cell_type": "code",
   "execution_count": null,
   "metadata": {},
   "outputs": [],
   "source": [
    "# Visualize results for water content prediction (scatter plots of predicted vs. actual values)\n",
    "fig, axs = plt.subplots(nrows=1, ncols=2, figsize=(12, 6))  # Create two subplots\n",
    "model = 'TensorFlow Neural Network'\n",
    "\n",
    "# Plot water content prediction\n",
    "axs[0].scatter(y_test_water_content, y_pred_water_content, label=model)\n",
    "axs[0].set_xlabel(\"Actual Water Content\")\n",
    "axs[0].set_ylabel(\"Predicted Water Content\")\n",
    "axs[0].set_title(\"Predicted vs. Actual Water Content\")\n",
    "axs[0].legend()\n",
    "\n",
    "# Plot water potential prediction\n",
    "axs[1].scatter(y_test_water_potential, y_pred_water_potential, label=model)\n",
    "axs[1].set_xlabel(\"Actual Water Potential\")\n",
    "axs[1].set_ylabel(\"Predicted Water Potential\")\n",
    "axs[1].set_title(\"Predicted vs. Actual Water Potential\")\n",
    "axs[1].legend()\n",
    "\n",
    "# Add text annotations with R² and MSE values\n",
    "axs[0].text(0.55, 0.85, f\"R²: {results_water_content['R2']:.4f}\", ha='left', va='top', transform=axs[0].transAxes, fontsize=10)\n",
    "axs[0].text(0.55, 0.80, f\"MSE: {results_water_content['MSE']:.4f}\", ha='left', va='top', transform=axs[0].transAxes, fontsize=10)\n",
    "\n",
    "axs[1].text(0.55, 0.85, f\"R²: {results_water_potential['R2']:.4f}\", ha='left', va='top', transform=axs[1].transAxes, fontsize=10)\n",
    "axs[1].text(0.55, 0.80, f\"MSE: {results_water_potential['MSE']:.4f}\", ha='left', va='top', transform=axs[1].transAxes, fontsize=10)\n",
    "\n",
    "# Add diagonal line\n",
    "for ax in axs:\n",
    "    xlims = ax.get_xlim()\n",
    "    ylims = ax.get_ylim()\n",
    "    xmin, xmax = min(xlims), max(xlims)\n",
    "    ymin, ymax = min(ylims), max(ylims)\n",
    "    ax.set_xlim(xmin, xmax)\n",
    "    ax.set_ylim(ymin, ymax)\n",
    "    ax.plot(xlims, ylims, 'k--', alpha=0.75, zorder=0) # Adjust line style, alpha, and zorder as needed\n",
    "\n",
    "plt.tight_layout()\n",
    "plt.show()"
   ]
  },
  {
   "cell_type": "code",
   "execution_count": 14,
   "metadata": {},
   "outputs": [],
   "source": [
    "# # Create the models folder if it doesn't exist\n",
    "# model_folder = \"models\"\n",
    "# if not os.path.exists(model_folder):\n",
    "#     os.makedirs(model_folder)\n",
    "\n",
    "# # Save the models (HDF5 format)\n",
    "# model_nn_water_content.save(os.path.join(model_folder, \"model_nn_water_content.h5\"))\n",
    "# model_nn_water_potential.save(os.path.join(model_folder, \"model_nn_water_potential.h5\")) "
   ]
  },
  {
   "cell_type": "code",
   "execution_count": 15,
   "metadata": {},
   "outputs": [],
   "source": [
    "# # Load the created neural network model\n",
    "# model_nn_water_content = tf.keras.models.load_model(os.path.join(model_folder, \"model_nn_water_content.h5\"))\n",
    "# model_nn_water_potential = tf.keras.models.load_model(os.path.join(model_folder, \"model_nn_water_potential.h5\"))"
   ]
  }
 ],
 "metadata": {
  "kernelspec": {
   "display_name": "myenv",
   "language": "python",
   "name": "python3"
  },
  "language_info": {
   "codemirror_mode": {
    "name": "ipython",
    "version": 3
   },
   "file_extension": ".py",
   "mimetype": "text/x-python",
   "name": "python",
   "nbconvert_exporter": "python",
   "pygments_lexer": "ipython3",
   "version": "3.10.13"
  }
 },
 "nbformat": 4,
 "nbformat_minor": 2
}
