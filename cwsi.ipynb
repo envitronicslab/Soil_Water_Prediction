{
 "cells": [
  {
   "cell_type": "code",
   "execution_count": 46,
   "metadata": {},
   "outputs": [],
   "source": [
    "import os\n",
    "import pandas as pd\n",
    "import matplotlib.pyplot as plt\n",
    "from submodules.cwsi.cwsi_function import ModelsInputData, CWSIModel"
   ]
  },
  {
   "cell_type": "code",
   "execution_count": 47,
   "metadata": {},
   "outputs": [],
   "source": [
    "'''\n",
    " Load microclimate data\n",
    "'''\n",
    "\n",
    "# Microclimate Data Files\n",
    "# # Daily average data\n",
    "# file_name = \"royal_city_daily_avg\"\n",
    "# # Late morning average data\n",
    "# file_name = \"royal_city_late_morning_avg\"\n",
    "# 15-min data\n",
    "file_name = \"royal_city_all\"\n",
    "\n",
    "data = pd.read_csv(os.path.join(\"microclimate_data\", f\"{file_name}.csv\"))    \n",
    "#print(data.head())"
   ]
  },
  {
   "cell_type": "code",
   "execution_count": null,
   "metadata": {},
   "outputs": [],
   "source": [
    "''' \n",
    "Feature engineering: Create new features based on existing ones\n",
    "'''\n",
    "\n",
    "# Feature engineering: Create new features based on existing ones\n",
    "data['temperature_difference'] = data['air_temp'] - data['canopy_temp_mean']\n",
    "\n",
    "# Calculate CWSI, Ta and Tp\n",
    "# Create new columns to store CWSI values\n",
    "data['cwsi'] = None\n",
    "data['t_actual'] = None\n",
    "data['t_potential'] = None\n",
    "\n",
    "# Iterate through each row and calculate CWSI\n",
    "for index, row in data.iterrows():\n",
    "    microclimate_data = ModelsInputData()\n",
    "    microclimate_data.Ta = row['air_temp']\n",
    "    microclimate_data.Sgl = row['solar_radiation']\n",
    "    microclimate_data.RH = row['relative_humidity']\n",
    "    microclimate_data.U = row['wind_speed']\n",
    "    microclimate_data.DOY = row['julian_day']\n",
    "    microclimate_data.b2 = 3.0\n",
    "    microclimate_data.b0 = 0.1\n",
    "    microclimate_data.lat = 42.3\n",
    "    microclimate_data.Elev = 2500\n",
    "    Tc = row['canopy_temp_mean']\n",
    "\n",
    "    model = CWSIModel(microclimate_data)\n",
    "    data.loc[index, 'cwsi'] = model.CWSI(Tc)\n",
    "    data.loc[index, 't_actual'] = model.T_Actual_F(Tc)\n",
    "    data.loc[index, 't_potential'] = model.Tp_F()\n",
    "\n",
    "print(data.head())"
   ]
  },
  {
   "cell_type": "code",
   "execution_count": 49,
   "metadata": {},
   "outputs": [],
   "source": [
    "'''\n",
    "Save the Data Frame\n",
    "'''\n",
    "\n",
    "# Construct the file path\n",
    "file_path = os.path.join(\"microclimate_data\", f\"{file_name}_cwsi.csv\")\n",
    "\n",
    "# Save the DataFrame to a CSV file in the microclimate_data directory\n",
    "data.to_csv(file_path, index=False)"
   ]
  },
  {
   "cell_type": "code",
   "execution_count": null,
   "metadata": {},
   "outputs": [],
   "source": [
    "'''\n",
    "Visualize the data\n",
    "'''\n",
    "\n",
    "# Create the figure and axes\n",
    "fig, ax1 = plt.subplots(figsize=(12, 6))\n",
    "\n",
    "# Plot CWSI on the first axis\n",
    "ax1.plot(data['julian_day'], data['cwsi'], label='CWSI', marker='o', linestyle='-')\n",
    "ax1.set_xlabel('Julian Day')\n",
    "ax1.set_ylabel('CWSI', color='blue')\n",
    "\n",
    "# Create a second axis sharing the x-axis\n",
    "ax2 = ax1.twinx()\n",
    "\n",
    "# Plot water_content_mean on the second axis\n",
    "ax2.plot(data['julian_day'], data['water_content_mean'], label='Water Content', color='red', marker='x', linestyle='--')\n",
    "ax2.set_ylabel('Water Content', color='red')\n",
    "\n",
    "# Set title and legend\n",
    "plt.title('CWSI and Water Content vs. Julian Day')\n",
    "\n",
    "# Add the legend with unique labels\n",
    "lines, labels = ax1.get_legend_handles_labels()\n",
    "lines2, labels2 = ax2.get_legend_handles_labels()\n",
    "ax1.legend(lines + lines2, labels + labels2, loc='upper left')  # Adjust the location as needed\n",
    "\n",
    "# Show the plot\n",
    "plt.grid(True)\n",
    "plt.show()"
   ]
  }
 ],
 "metadata": {
  "kernelspec": {
   "display_name": "myenv",
   "language": "python",
   "name": "python3"
  },
  "language_info": {
   "codemirror_mode": {
    "name": "ipython",
    "version": 3
   },
   "file_extension": ".py",
   "mimetype": "text/x-python",
   "name": "python",
   "nbconvert_exporter": "python",
   "pygments_lexer": "ipython3",
   "version": "3.10.13"
  }
 },
 "nbformat": 4,
 "nbformat_minor": 2
}
